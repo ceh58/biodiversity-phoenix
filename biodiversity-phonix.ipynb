{
 "cells": [
  {
   "cell_type": "markdown",
   "id": "f1148e1a-5378-4597-bd4a-562a688b02bb",
   "metadata": {},
   "source": [
    "# Investigating the Impacts of Urban Expansion in Phoenix, AZ\n",
    "## Assessing Changes in the Biodiversity Intactness Index (BII) from 2017 to 2020\n",
    "### Author: Carmen Hoyt\n",
    "### [GitHub Repository](https://github.com/ceh58/biodiversity-phoenix)"
   ]
  },
  {
   "cell_type": "markdown",
   "id": "e268f22f-f705-4b13-95f4-8b5e7b128af2",
   "metadata": {},
   "source": [
    "### About\n",
    "- Purpose\n",
    "- Highlights\n",
    "- Data\n",
    "- References"
   ]
  }
 ],
 "metadata": {
  "kernelspec": {
   "display_name": "Anaconda 3 (EDS220)",
   "language": "python",
   "name": "eds220-env"
  },
  "language_info": {
   "codemirror_mode": {
    "name": "ipython",
    "version": 3
   },
   "file_extension": ".py",
   "mimetype": "text/x-python",
   "name": "python",
   "nbconvert_exporter": "python",
   "pygments_lexer": "ipython3",
   "version": "3.11.4"
  }
 },
 "nbformat": 4,
 "nbformat_minor": 5
}
