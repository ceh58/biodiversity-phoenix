{
 "cells": [
  {
   "cell_type": "markdown",
   "id": "f1148e1a-5378-4597-bd4a-562a688b02bb",
   "metadata": {},
   "source": [
    "# Investigating the Impacts of Urban Expansion\n",
    "## Assessing Changes in the Biodiversity Intactness Index (BII) from 2017 to 2020 in Phoenix, AZ\n",
    "### Author: Carmen Hoyt\n",
    "#### Visit my [GitHub Repository](https://github.com/ceh58/biodiversity-phoenix) for more information."
   ]
  },
  {
   "cell_type": "markdown",
   "id": "e268f22f-f705-4b13-95f4-8b5e7b128af2",
   "metadata": {},
   "source": [
    "### About\n",
    "- Purpose\n",
    "\n",
    "The purpose of this analysis is to identify the impacts of urban expansion by assessing where the Biodiversity Intactness Index (BII) decreased in Phoenix, Arizona from 2017 to 2020.\n",
    "\n",
    "- Highlights\n",
    "\n",
    "    - Filtering geo-dataframes (using `pandas` and `geopandas`)\n",
    "    - Accessing an API using `pystac_client`\n",
    "    - Extracting data from a desired `collection` and spatial extent (`bbox`)\n",
    "    - Manipulating rasters (cleaning and clipping) with `rioxarray`\n",
    "    - Add a basemap using `contextily`\n",
    "\n",
    "- Data\n",
    "\n",
    "1. Biodiversity Intactness Index (BII) Time Series\n",
    "\n",
    "In this analysis, I use the 2017 and 2020 rasters from the io-biodiversity collection from the [Microsoft Planetary Computer STAC catalog](https://planetarycomputer.microsoft.com/dataset/io-biodiversity). The collection was filtered using the following bounding box: [-112.826843, 32.974108, -111.184387, 33.863574].\n",
    "\n",
    "2. Phoenix Subdivision Shapefile\n",
    "\n",
    "The [2020 TIGER/Line® Shapefiles: County Subdivisions](https://www.census.gov/cgi-bin/geo/shapefiles/index.php?year=2020&layergroup=County+Subdivisions) shapefile, as provided by the US Census Bureau, was downloaded for Arizona. This was filtered for Phoenix in the analysis.\n",
    "\n",
    "- References\n",
    "\n",
    "Microsoft Open Source, Matt McFarland, Rob Emanuele, Dan Morris, & Tom Augspurger. (2022). microsoft/PlanetaryComputer: October 2022 (2022.10.28). Zenodo. https://doi.org/10.5281/zenodo.7261897 Accessed: 2024-12-02\n",
    "\n",
    "2020 TIGER/Line Shapefiles (machinereadable data files) / prepared by the U.S. Census Bureau, 2020 https://www.census.gov/cgi-bin/geo/shapefiles/index.php?year=2020&layergroup=County+Subdivisions Accessed: 2024-12-02"
   ]
  },
  {
   "cell_type": "markdown",
   "id": "3403067a-a47a-46ed-a315-7ef266a0015a",
   "metadata": {},
   "source": [
    "### Import packages"
   ]
  },
  {
   "cell_type": "code",
   "execution_count": 1,
   "id": "6788c614-b74e-40c1-ba81-15ba2e0b7c66",
   "metadata": {
    "tags": []
   },
   "outputs": [],
   "source": [
    "import os\n",
    "import pandas as pd\n",
    "import numpy as np\n",
    "import matplotlib.pyplot as plt # To plot the final figure\n",
    "import matplotlib.pyplot as mlines # To add legend to final figure\n",
    "import geopandas as gpd # To work with shapefiles\n",
    "import rioxarray as rioxr # To work with rasters\n",
    "import contextily as ctx # To add a basemap\n",
    "\n",
    "from pystac_client import Client # To access STAC catalogs\n",
    "\n",
    "import planetary_computer # To sign items from the MPC STAC catalog\n",
    "\n",
    "from IPython.display import Image # To nicely display images"
   ]
  },
  {
   "cell_type": "markdown",
   "id": "039e30ac-b6c2-4791-ad81-fa8b983486ab",
   "metadata": {},
   "source": [
    "### Import county subdivision shapefile\n",
    "\n",
    "Download the [2020 TIGER/Line](https://www.census.gov/cgi-bin/geo/shapefiles/index.php?year=2020&layergroup=County+Subdivisions) county subdivisions shapefile for Arizona and save in the data/ folder. Import the shapefile, and filter for Phoenix.\n",
    "\n",
    "*Remember, the data/ folder gets added to the .gitignore. It is too large to push to the GitHub repository.*"
   ]
  },
  {
   "cell_type": "code",
   "execution_count": 2,
   "id": "63fd626b-0c0c-4c5c-9f57-2fe45d037ede",
   "metadata": {
    "tags": []
   },
   "outputs": [
    {
     "name": "stdout",
     "output_type": "stream",
     "text": [
      "EPSG:4269\n"
     ]
    },
    {
     "data": {
      "text/plain": [
       "<Axes: >"
      ]
     },
     "execution_count": 2,
     "metadata": {},
     "output_type": "execute_result"
    },
    {
     "data": {
      "image/png": "[encoded data removed]",
      "text/plain": [
       "<Figure size 640x480 with 1 Axes>"
      ]
     },
     "metadata": {},
     "output_type": "display_data"
    }
   ],
   "source": [
    "# Import shapefile from the data/ folder\n",
    "counties = gpd.read_file(os.path.join(\"data/\",\n",
    "                  'tl_2020_04_cousub.shp'))\n",
    "\n",
    "# Clean geo-dataframe names\n",
    "counties.rename(columns=str.lower, inplace=True)\n",
    "\n",
    "# Filter for Phoenix\n",
    "phoenix = counties.loc[(counties['name'] == \"Phoenix\")]\n",
    "\n",
    "# Examine Phoenix \n",
    "print(phoenix.crs)\n",
    "phoenix.plot()"
   ]
  },
  {
   "cell_type": "markdown",
   "id": "d368153e-831e-4b8f-bb0b-eb35059e0aaa",
   "metadata": {},
   "source": [
    "To understand where we are working, it helps to map the Phoenix subdivision in a broader context. Using the `contextily` package, we can use the `.add_basemap()` function to add a basemap."
   ]
  },
  {
   "cell_type": "code",
   "execution_count": null,
   "id": "0f845d09-d5e2-4bb6-baff-1fd49183249b",
   "metadata": {
    "tags": []
   },
   "outputs": [],
   "source": [
    "# Set up figure\n",
    "fig, ax = plt.subplots(figsize = (10, 10))\n",
    "\n",
    "# Plot the Phoenix subdivision boundary\n",
    "phoenix.boundary.plot(ax=ax, \n",
    "            color = \"black\")\n",
    "\n",
    "# Add a basemap\n",
    "ctx.add_basemap(ax, crs=phoenix.crs)\n",
    "\n",
    "# Set title\n",
    "ax.set_title(\"Phoenix Subdivision\")\n",
    "\n",
    "# Turn axis off\n",
    "ax.axis(\"off\")\n",
    "\n",
    "plt.show()"
   ]
  },
  {
   "cell_type": "markdown",
   "id": "ae67acc0-6d50-4fb0-bcf2-2ffe189263ba",
   "metadata": {},
   "source": [
    "### Access the Biodiversity Intactness Index (BII) data\n",
    "We use the `Client` function from the `pystac_client` package to access the Microsoft Planetary Catalog STAC API."
   ]
  },
  {
   "cell_type": "code",
   "execution_count": null,
   "id": "c29f676b-2258-4df7-9c05-4e5317d76107",
   "metadata": {
    "tags": []
   },
   "outputs": [],
   "source": [
    "# Access the Microsoft Planetary Catalog\n",
    "catalog = Client.open(\n",
    "    \"https://planetarycomputer.microsoft.com/api/stac/v1\",\n",
    "    modifier=planetary_computer.sign_inplace,\n",
    ")"
   ]
  },
  {
   "cell_type": "code",
   "execution_count": null,
   "id": "644542e7-a4b8-4d88-ba61-c092b8098098",
   "metadata": {
    "tags": []
   },
   "outputs": [],
   "source": [
    "# Explore catalog metadata\n",
    "print('Title: ', catalog.title)\n",
    "print('Description: ', catalog.description)"
   ]
  },
  {
   "cell_type": "markdown",
   "id": "3622d823-6342-466a-8a9b-696c02c66035",
   "metadata": {},
   "source": [
    "We can access its collections by using the `get_collections()` method."
   ]
  },
  {
   "cell_type": "code",
   "execution_count": null,
   "id": "cc13d932-ad8a-4821-9b3b-27729b05d295",
   "metadata": {
    "tags": []
   },
   "outputs": [],
   "source": [
    "# Get collections and print their names\n",
    "collections = list(catalog.get_collections()) # Turn the generator into a list\n",
    "\n",
    "print('Number of collections ', len(collections))\n",
    "\n",
    "print('Collection IDs (first 10): ')\n",
    "for i in range(10):\n",
    "    print('-', collections[i].id)"
   ]
  },
  {
   "cell_type": "markdown",
   "id": "a38845e4-3555-4679-a320-225db21f304e",
   "metadata": {},
   "source": [
    "There are 124 collections in this catalog. We are interested in the `io-biodiversity` collection. To `search()` for this collection for Phoenix, AZ, we will need to specify `collections` and a bounding box (`bbox`)."
   ]
  },
  {
   "cell_type": "code",
   "execution_count": null,
   "id": "90808bf3-f98e-4e0f-8b37-74e70b112b7c",
   "metadata": {
    "tags": []
   },
   "outputs": [],
   "source": [
    "# Specify bounding box for Phoenix, AZ\n",
    "bbox_of_interest = [-112.826843, 32.974108, -111.184387, 33.863574]\n",
    "\n",
    "# Search io-biodiversity catalog using the bbox\n",
    "search = catalog.search(collections=[\"io-biodiversity\"], \n",
    "                        bbox=bbox_of_interest)\n",
    "\n",
    "# Print all of the items returned in the search\n",
    "items = list(search.items())\n",
    "for item in items:\n",
    "    print(item)"
   ]
  },
  {
   "cell_type": "markdown",
   "id": "0c4c0e89-c6c9-4cf0-9c2f-76d495a4086c",
   "metadata": {},
   "source": [
    "Our search returned 4 items: BII data for each year from 2017 to 2020. We want to select the 2017 and the 2020 data: item[0] and item[3]."
   ]
  },
  {
   "cell_type": "code",
   "execution_count": null,
   "id": "ff1c7ede-7a14-46c5-8872-4b9453c698eb",
   "metadata": {
    "tags": []
   },
   "outputs": [],
   "source": [
    "# Get first item (2020 data) in the catalog search\n",
    "item_2020 = items[0]\n",
    "item_2020"
   ]
  },
  {
   "cell_type": "code",
   "execution_count": null,
   "id": "266e7194-46dc-45aa-834f-6457c384d605",
   "metadata": {
    "tags": []
   },
   "outputs": [],
   "source": [
    "# Print item ID and properties\n",
    "print('ID: ', item_2020.id)\n",
    "item_2020.properties\n",
    "\n",
    "# Explore item assets\n",
    "for key in item_2020.assets.keys():\n",
    "    print(key, \"--\", item_2020.assets[key].title)"
   ]
  },
  {
   "cell_type": "markdown",
   "id": "a17d8e5e-d55a-489c-889d-6c93a6873a44",
   "metadata": {},
   "source": [
    "### Access BII data\n",
    "\n",
    "The raster data in our current `item` is in the `data` asset.\n",
    "Again, we access this data via its URL.\n",
    "This time we open it using `rioxr.open_rasterio()` and save it as `bii_2020`, since it is the 2020 BII data."
   ]
  },
  {
   "cell_type": "code",
   "execution_count": null,
   "id": "559d4c32-5163-45cc-9e27-14e729c1aa94",
   "metadata": {
    "tags": []
   },
   "outputs": [],
   "source": [
    "# Access and save 2020 BII raster data\n",
    "bii_2020 = rioxr.open_rasterio(item_2020.assets['data'].href)\n",
    "bii_2020"
   ]
  },
  {
   "cell_type": "code",
   "execution_count": null,
   "id": "38b6a47c-9bca-47c7-b41a-8ae05eb54255",
   "metadata": {
    "tags": []
   },
   "outputs": [],
   "source": [
    "# Preliminary exploration\n",
    "print('Sizes of dimensions:', dict(bii_2020.sizes))\n",
    "print('attrs:', bii_2020.attrs)\n",
    "print(bii_2020.dims, bii_2020.coords)"
   ]
  },
  {
   "cell_type": "markdown",
   "id": "7f58ff1e-e341-4f62-b803-68f91936ba43",
   "metadata": {},
   "source": [
    "The dimension 'band' of size 1 is not useful. We can drop it using the `squeeze()` and `.drop_vars()`functions."
   ]
  },
  {
   "cell_type": "code",
   "execution_count": null,
   "id": "341aed71-00b5-4fbe-b242-e5398b8a14d8",
   "metadata": {
    "tags": []
   },
   "outputs": [],
   "source": [
    "# Drop the 'band' dimension\n",
    "bii_2020 = bii_2020.squeeze().drop_vars('band')"
   ]
  },
  {
   "cell_type": "code",
   "execution_count": null,
   "id": "c6574ab0-e31e-41af-83bf-8be66359df48",
   "metadata": {
    "tags": []
   },
   "outputs": [],
   "source": [
    "# Confirm 'band' was dropped\n",
    "print(bii_2020.dims, bii_2020.coords)"
   ]
  },
  {
   "cell_type": "markdown",
   "id": "8706a67a-e659-4cbc-8292-e339d3874fef",
   "metadata": {},
   "source": [
    "Now we will do the same for the 2017 data."
   ]
  },
  {
   "cell_type": "code",
   "execution_count": null,
   "id": "7713bde4-99cf-4667-8207-c257b56fd6eb",
   "metadata": {
    "tags": []
   },
   "outputs": [],
   "source": [
    "# Get third item (2017) in the catalog search\n",
    "item_2017 = items[3]\n",
    "item_2017"
   ]
  },
  {
   "cell_type": "code",
   "execution_count": null,
   "id": "0706a7fe-ce7e-4d25-a1e3-e14e73ee2807",
   "metadata": {
    "tags": []
   },
   "outputs": [],
   "source": [
    "# Access and save 2017 BII raster data\n",
    "bii_2017 = rioxr.open_rasterio(item_2017.assets['data'].href)\n",
    "bii_2017"
   ]
  },
  {
   "cell_type": "code",
   "execution_count": null,
   "id": "5ff82b92-340e-4151-8044-4a9d2ab496e6",
   "metadata": {
    "tags": []
   },
   "outputs": [],
   "source": [
    "# Drop the 'band' dimension\n",
    "bii_2017 = bii_2017.squeeze().drop_vars('band')\n",
    "\n",
    "# Confirm 'band' was dropped\n",
    "print(bii_2017.dims, bii_2017.coords)"
   ]
  },
  {
   "cell_type": "markdown",
   "id": "ce146be2-2626-4bec-bc56-b47d24956613",
   "metadata": {},
   "source": [
    "In order to plot the Phoenix shapefile and the BII data on the same figure, we will need to make sure that the Coordinate Reference Systems (CRSs) match. We can use either the 2020 or the 2017 data, since they are from the same collection. I chose to use the 2020 data, since that is also what I will use for the final figure."
   ]
  },
  {
   "cell_type": "code",
   "execution_count": null,
   "id": "2ea43bd1-366f-46b2-b73c-534d21e13cb3",
   "metadata": {
    "tags": []
   },
   "outputs": [],
   "source": [
    "# Match CRSs and verify update\n",
    "phoenix_match = phoenix.to_crs(bii_2020.rio.crs)\n",
    "assert phoenix_match.crs == bii_2020.rio.crs"
   ]
  },
  {
   "cell_type": "markdown",
   "id": "1ece07d0-f752-4f6c-a9ef-738cce598028",
   "metadata": {},
   "source": [
    "The rasters are very large; we will need to clip them to the extent of the Phoenix subdivision (using the shapefile with the matched CRS). "
   ]
  },
  {
   "cell_type": "code",
   "execution_count": null,
   "id": "7d31a38b-f24f-4950-9f94-83439231e7c5",
   "metadata": {
    "tags": []
   },
   "outputs": [],
   "source": [
    "# Clip the 2020 raster to detailed geometry\n",
    "bii_2020_clip = (bii_2020.rio.clip_box(*phoenix_match.total_bounds)\n",
    "                .rio.clip(phoenix_match.geometry))\n",
    "\n",
    "# Clip the 2017 raster to detailed geometry\n",
    "bii_2017_clip = (bii_2017.rio.clip_box(*phoenix_match.total_bounds)\n",
    "                .rio.clip(phoenix_match.geometry))"
   ]
  },
  {
   "cell_type": "markdown",
   "id": "ae942ce4-5df4-4c61-8c95-fe68c0867adc",
   "metadata": {},
   "source": [
    "## Calculate *percent* area with BII > 0.75\n",
    "\n",
    "To calculate the percentage of area of the Phoenix subdivision with a BII of *at least* 0.75, we will need two values:\n",
    "\n",
    "- Value 1: Number of pixels with BII values >= 0.75\n",
    "- Value 2: Total number of pixels (in the Phoenix subdivision)\n",
    "\n",
    "We will start with 2020 data. To find Value 1, we first select values >= 0.75."
   ]
  },
  {
   "cell_type": "code",
   "execution_count": null,
   "id": "d6dba768-271a-40a9-8647-7df4abd06bbe",
   "metadata": {
    "tags": []
   },
   "outputs": [],
   "source": [
    "# Select BII >= 0.75\n",
    "bii_75_2020 = bii_2020_clip >= 0.75"
   ]
  },
  {
   "cell_type": "markdown",
   "id": "1827d0e2-22c5-45fc-8abe-1581c7779e09",
   "metadata": {},
   "source": [
    "This produces a Boolean array, assigning True (BII >= 0.75) or False (BII < 0.75) values to each entry.\n",
    "\n",
    "We will use the `numpy` function `np.unique()` to return the unique values in the array (True or False). We must set the parameter `return_counts` to True in order to return the count (in this case, number of pixels) associated with each unique value."
   ]
  },
  {
   "cell_type": "code",
   "execution_count": null,
   "id": "c086b859-bea1-4baf-b86f-72bf9e105c38",
   "metadata": {},
   "outputs": [],
   "source": [
    "# Count pixels for True/False\n",
    "values, counts = np.unique(bii_75_2020, return_counts = True)"
   ]
  },
  {
   "cell_type": "markdown",
   "id": "356af37f-07d4-4398-b89b-f9204e49e97b",
   "metadata": {},
   "source": [
    "Create a dataframe from the values and counts we saved in the previous step. "
   ]
  },
  {
   "cell_type": "code",
   "execution_count": null,
   "id": "84b2d058-6216-429f-9c5c-f0ffd2255b49",
   "metadata": {
    "tags": []
   },
   "outputs": [],
   "source": [
    "# Create a dataframe\n",
    "d = {'values': values, 'counts': counts}\n",
    "pix_counts_2020 = pd.DataFrame(data=d)\n",
    "pix_counts_2020.head()"
   ]
  },
  {
   "cell_type": "markdown",
   "id": "4f3de176-3a1e-449a-bde9-ab0433ea6433",
   "metadata": {},
   "source": [
    "Value 1 is the number returned under `count` for True, located at [1,1]. Save it for later."
   ]
  },
  {
   "cell_type": "code",
   "execution_count": null,
   "id": "a64fa688-1a41-486e-b130-b3d123d36f2b",
   "metadata": {
    "tags": []
   },
   "outputs": [],
   "source": [
    "# Save the number of pixels that have BII >= 0.75\n",
    "value_1_2020 = pix_counts_2020.iloc[1,1]\n",
    "print(f\"There are {value_1_2020} pixels with BII >= 0.75.\")"
   ]
  },
  {
   "cell_type": "markdown",
   "id": "d9f9ed37-18aa-4cd2-b2b9-c0f2ee203b87",
   "metadata": {},
   "source": [
    "To find Value 2, we need to find the total number of pixels inside the Phoenix subdivision. First, we need to create another Boolean array for the whole study area. In our clipped raster, values outside the Phoenix subdivision are 0 or NA. So, we just need to select values > 0."
   ]
  },
  {
   "cell_type": "code",
   "execution_count": null,
   "id": "ca5d204f-035b-47b4-83d2-58f8998518ef",
   "metadata": {
    "tags": []
   },
   "outputs": [],
   "source": [
    "# Select values > 0\n",
    "phoenix_2020_pixels = bii_2020_clip > 0"
   ]
  },
  {
   "cell_type": "markdown",
   "id": "8dc2e9d2-3eb1-4d80-a598-44ed469795fb",
   "metadata": {},
   "source": [
    "We will use the same method to return the counts for each True (inside the Phoenix subdivision boundary) or False (outside the subdivision boundary) value."
   ]
  },
  {
   "cell_type": "code",
   "execution_count": null,
   "id": "99554a78-1e51-4161-be22-e62c55ffae61",
   "metadata": {
    "tags": []
   },
   "outputs": [],
   "source": [
    "# Count pixels for True/False for the study area\n",
    "values, counts = np.unique(phoenix_2020_pixels, return_counts = True)\n",
    "\n",
    "# Create a dataframe\n",
    "d = {'values': values, 'counts': counts}\n",
    "phoenix_2020_total_pixels = pd.DataFrame(data=d)\n",
    "phoenix_2020_total_pixels.head()"
   ]
  },
  {
   "cell_type": "markdown",
   "id": "ce06381a-1bc7-4967-ab95-a5e7d644d776",
   "metadata": {},
   "source": [
    "Since we are interested in the number of pixels inside the boundary, we want to select the counts value for True, located at [1,1]. Save it for later."
   ]
  },
  {
   "cell_type": "code",
   "execution_count": null,
   "id": "c5a086a3-67d8-4b52-8119-340de8dfbb3d",
   "metadata": {
    "tags": []
   },
   "outputs": [],
   "source": [
    "# Calculate total pixels inside subdivision\n",
    "value_2_2020 = phoenix_2020_total_pixels.iloc[1,1]\n",
    "print(f\"The total number of pixels within the Phoenix border is {value_2_2020}.\")"
   ]
  },
  {
   "cell_type": "markdown",
   "id": "ab476927-2aca-4d1e-86a1-f8ec8f10664e",
   "metadata": {},
   "source": [
    "To obtain the percent area, we need to divide Value 1 by Value 2 and multiply by 100."
   ]
  },
  {
   "cell_type": "code",
   "execution_count": null,
   "id": "10ec8a5a-70ff-4f18-b248-eab612faad72",
   "metadata": {
    "tags": []
   },
   "outputs": [],
   "source": [
    "# Find area percentage\n",
    "percentage_area_2020 = (value_1_2020/value_2_2020) *100\n",
    "print(f\"The percentage of area of the Phoenix subdivision with BII >= 0.75 in 2020 is {round(percentage_area_2020, 2)}%.\")"
   ]
  },
  {
   "cell_type": "markdown",
   "id": "251f7e13-bb5b-4094-9878-b3682bda49ef",
   "metadata": {},
   "source": [
    "Now let's do the same for 2017 data. "
   ]
  },
  {
   "cell_type": "code",
   "execution_count": null,
   "id": "079ed729-97f9-4be8-aac3-186fbc3d094d",
   "metadata": {
    "tags": []
   },
   "outputs": [],
   "source": [
    "# Filter for BII >= 0.75\n",
    "bii_75_2017 = bii_2017_clip >= 0.75\n",
    "\n",
    "# Count pixels for True/False of BII >= 0.75 for 2017\n",
    "values, counts = np.unique(bii_75_2017, return_counts = True)\n",
    "\n",
    "# Create a dataframe\n",
    "d = {'values': values, 'counts': counts}\n",
    "pix_counts_2017 = pd.DataFrame(data=d)\n",
    "\n",
    "# Save the number of pixels that have BII >= 0.75\n",
    "value_1_2017 = pix_counts_2017.iloc[1,1]\n",
    "print(f\"There are {value_1_2017} pixels with BII >= 0.75.\")\n",
    "\n",
    "# Select values > 0\n",
    "phoenix_2017_pixels = bii_2017_clip > 0\n",
    "\n",
    "# Count pixels for True/False for the study area\n",
    "values, counts = np.unique(phoenix_2017_pixels, return_counts = True)\n",
    "\n",
    "# Create a dataframe\n",
    "d = {'values': values, 'counts': counts}\n",
    "phoenix_2017_total_pixels = pd.DataFrame(data=d)\n",
    "phoenix_2017_total_pixels.head()\n",
    "\n",
    "# Calculate total pixels inside subdivision\n",
    "value_2_2017 = phoenix_2017_total_pixels.iloc[1,1]\n",
    "print(f\"The total number of pixels within the Phoenix border is {value_2_2017}.\")\n",
    "\n",
    "# Find area percentage\n",
    "percentage_area_2017 = (value_1_2017/value_2_2017) *100\n",
    "print(f\"The percentage of area of the Phoenix subdivision with BII >= 0.75 in 2017 is {round(percentage_area_2017, 2)}%.\")"
   ]
  },
  {
   "cell_type": "markdown",
   "id": "d9ec2529-3815-4ca7-b258-2a9ca1c53768",
   "metadata": {},
   "source": [
    "Using the Boolean rasters from BII >= 0.75, converted them to integers (True = 1, False = 0) so I could subtract 2020 from 2017. Then, keeping only where there were True values (values of 1), I can plot where BII changed."
   ]
  },
  {
   "cell_type": "code",
   "execution_count": null,
   "id": "636d8996-fdcc-4d10-a62e-843d71a60850",
   "metadata": {
    "tags": []
   },
   "outputs": [],
   "source": [
    "#change = bii_75_2017*bii_2017_clip - bii_75_2020*bii_2020_clip\n",
    "change = bii_75_2017.astype('int') - bii_75_2020.astype('int')\n",
    "change = change.where(change == 1)\n",
    "change.plot()"
   ]
  },
  {
   "cell_type": "markdown",
   "id": "12d81f38-163a-4aca-9416-1bc475380547",
   "metadata": {},
   "source": [
    "Now, we can plot where BII has changed on top of the 2020 BII raster."
   ]
  },
  {
   "cell_type": "code",
   "execution_count": null,
   "id": "9e9f7b55-32db-412b-8570-db61bed31818",
   "metadata": {
    "tags": []
   },
   "outputs": [],
   "source": [
    "# Create aspect ratio\n",
    "aspect = bii_2020_clip.rio.width/bii_2020_clip.rio.height\n",
    "\n",
    "# Set up figure\n",
    "fig, ax = plt.subplots(figsize = (10, 4*aspect))\n",
    "\n",
    "# Plot the 2020 raster\n",
    "bii_2020_clip.plot(ax=ax, \n",
    "                cmap = \"Greens\",\n",
    "                cbar_kwargs={\n",
    "        \"orientation\": \"horizontal\",\n",
    "        \"label\": \"BII for 2020\"})\n",
    "\n",
    "# Plot the difference raster\n",
    "change.plot(ax = ax,\n",
    "            cmap = \"inferno\",\n",
    "           add_colorbar = False)\n",
    "           #cbar_kwargs={'location': 'none'})\n",
    "\n",
    "# Plot the Phoenix border\n",
    "phoenix_match.boundary.plot(ax = ax,\n",
    "                         color = \"black\")\n",
    "\n",
    "# Set legend for change raster\n",
    "red_patch = mlines.Line2D([], [], color = \"red\", \n",
    "                          label = \"Area with BII >= 0.75 lost from 2017 to 2020.\", \n",
    "                          linewidth = 4)\n",
    "\n",
    "ax.legend(handles = [red_patch],\n",
    "          bbox_to_anchor=(0, 0, 0.75, 0),\n",
    "         fontsize = 8)\n",
    "\n",
    "# Set title\n",
    "ax.set_title(\"Biodiversity Intactness Index (BII) \\nPhoenix Subdivision\")\n",
    "\n",
    "# Turn axis off\n",
    "ax.axis(\"off\")\n",
    "\n",
    "plt.show()"
   ]
  },
  {
   "cell_type": "markdown",
   "id": "bbb81310-9309-4e45-85bf-498b33b8f204",
   "metadata": {},
   "source": [
    "This figure shows, in shades of green, where BII varies from low (lighter shades) to high (darker shades) in the Phoenix subdivision. According to the [Natural History Museum](https://www.nhm.ac.uk/our-science/services/data/biodiversity-intactness-index.html), BII is an \"estimated percentage of the original number of species that remain and their abundance in any given area, despite human impacts.\" Thus, darker areas represent relatively higher species abundance than lighter areas. However, we can see that BII loss (mapped in red) has occured in the years spanning 2017 to 2020, particularly around these more abundant (shaded) areas. It seems that biodiversity loss is encroaching on the last two strongholds in the Phoenix subdivision."
   ]
  }
 ],
 "metadata": {
  "kernelspec": {
   "display_name": "Anaconda 3 (EDS220)",
   "language": "python",
   "name": "eds220-env"
  },
  "language_info": {
   "codemirror_mode": {
    "name": "ipython",
    "version": 3
   },
   "file_extension": ".py",
   "mimetype": "text/x-python",
   "name": "python",
   "nbconvert_exporter": "python",
   "pygments_lexer": "ipython3",
   "version": "3.11.4"
  }
 },
 "nbformat": 4,
 "nbformat_minor": 5
}
